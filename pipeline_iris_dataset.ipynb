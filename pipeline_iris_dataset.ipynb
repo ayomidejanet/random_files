{
 "cells": [
  {
   "cell_type": "code",
   "execution_count": 8,
   "id": "44ed1674-6646-4ab5-942f-6d7351883f4e",
   "metadata": {
    "tags": []
   },
   "outputs": [],
   "source": [
    "from sklearn.datasets import load_iris \n",
    "from sklearn.model_selection import train_test_split\n",
    "from sklearn.preprocessing import StandardScaler\n",
    "from sklearn.decomposition import PCA\n",
    "from sklearn.pipeline import Pipeline\n",
    "from sklearn.linear_model import LogisticRegression\n",
    "from sklearn import tree\n",
    "from sklearn.ensemble import RandomForestClassifier"
   ]
  },
  {
   "cell_type": "code",
   "execution_count": 14,
   "id": "063867cd-a477-4a09-8ba4-fe64fcb3d34f",
   "metadata": {
    "tags": []
   },
   "outputs": [],
   "source": [
    "df = load_iris()"
   ]
  },
  {
   "cell_type": "code",
   "execution_count": 32,
   "id": "04b57281-53ff-48b5-aefa-5dcba0a6b873",
   "metadata": {
    "tags": []
   },
   "outputs": [],
   "source": [
    "X_train, X_test, y_train, y_test = train_test_split(df.data, df.target, test_size=0.2, random_state=0)"
   ]
  },
  {
   "cell_type": "code",
   "execution_count": 33,
   "id": "d29ab93e-cbed-4088-b56a-4db600afadc4",
   "metadata": {
    "tags": []
   },
   "outputs": [],
   "source": [
    "pipeline_lr = Pipeline([('scalar1', StandardScaler()),\n",
    "                        ('pca1', PCA(n_components=2)),\n",
    "                        ('lr_classifier', LogisticRegression(random_state=0))])                     "
   ]
  },
  {
   "cell_type": "code",
   "execution_count": 34,
   "id": "e5fdc30a-afe7-4717-bf82-cddc8aa75f9c",
   "metadata": {
    "tags": []
   },
   "outputs": [],
   "source": [
    "pipeline_rfc = Pipeline([('scalar2', StandardScaler()),\n",
    "                         ('pca2', PCA(n_components=2)),\n",
    "                         ('dt_classifier', RandomForestClassifier(random_state=0))])"
   ]
  },
  {
   "cell_type": "code",
   "execution_count": 42,
   "id": "e02e01bc-9d8b-4846-b67b-3bcf4c28265e",
   "metadata": {
    "tags": []
   },
   "outputs": [],
   "source": [
    "pipelines = [pipeline_lr, pipeline_rfc]"
   ]
  },
  {
   "cell_type": "code",
   "execution_count": 36,
   "id": "0c3e2fa2-d650-4164-9b2d-7e4fdd3c49bc",
   "metadata": {
    "tags": []
   },
   "outputs": [],
   "source": [
    "best_accuracy = 0.0\n",
    "best_classifier = 0\n",
    "best_pipeline = \"\""
   ]
  },
  {
   "cell_type": "code",
   "execution_count": 38,
   "id": "31ddf0d1-8b16-47a7-adf4-169d72ea5e9d",
   "metadata": {
    "tags": []
   },
   "outputs": [],
   "source": [
    "pipe_dict = {0: 'Logistic Regression', 1: 'RandomForest Regression'}\n",
    "\n",
    "#fit the pipelines\n",
    "for pipe in pipelines:\n",
    "    pipe.fit(X_train, y_train)"
   ]
  },
  {
   "cell_type": "code",
   "execution_count": 40,
   "id": "94cf7e5d-11d9-4291-8e01-bcfe6473fc53",
   "metadata": {
    "tags": []
   },
   "outputs": [
    {
     "name": "stdout",
     "output_type": "stream",
     "text": [
      "Logistic Regression Test Accuracy: 0.8666666666666667\n",
      "RandomForest Regression Test Accuracy: 0.9\n"
     ]
    }
   ],
   "source": [
    "for i, model in enumerate(pipelines):\n",
    "    print(\"{} Test Accuracy: {}\".format(pipe_dict[i], model.score(X_test, y_test))) "
   ]
  },
  {
   "cell_type": "code",
   "execution_count": 41,
   "id": "eb7e5d25-e3d8-427e-8cf3-915f50191332",
   "metadata": {
    "tags": []
   },
   "outputs": [
    {
     "name": "stdout",
     "output_type": "stream",
     "text": [
      "Classifier with best accuracy:RandomForest Regression\n"
     ]
    }
   ],
   "source": [
    "for i, model in enumerate(pipelines):\n",
    "    if model.score(X_test, y_test)>best_accuracy:\n",
    "        best_accuracy=model.score(X_test, y_test)\n",
    "        best_pipeline=model\n",
    "        best_classifier=i\n",
    "print('Classifier with best accuracy:{}'.format(pipe_dict[best_classifier]))"
   ]
  }
 ],
 "metadata": {
  "kernelspec": {
   "display_name": "Python 3 (ipykernel)",
   "language": "python",
   "name": "python3"
  },
  "language_info": {
   "codemirror_mode": {
    "name": "ipython",
    "version": 3
   },
   "file_extension": ".py",
   "mimetype": "text/x-python",
   "name": "python",
   "nbconvert_exporter": "python",
   "pygments_lexer": "ipython3",
   "version": "3.8.16"
  }
 },
 "nbformat": 4,
 "nbformat_minor": 5
}
